{
 "cells": [
  {
   "cell_type": "markdown",
   "id": "26ab545e",
   "metadata": {},
   "source": [
    "# To deal with accuracy  in Regression and Classification"
   ]
  },
  {
   "cell_type": "code",
   "execution_count": 1,
   "id": "140d06b8",
   "metadata": {},
   "outputs": [],
   "source": [
    "# The First part of accurcy in Classification \n",
    "# and the secound part of error in Regreesion to know the accuracy.\n",
    "\n",
    "# The sample of dataset and prediction wiht (Classifiction)\n",
    "y = [0,1,0,0,1,1,0,0,0,0]\n",
    "y_pred = [0,0,1,0,0,1,1,0,0,0]"
   ]
  },
  {
   "cell_type": "code",
   "execution_count": 2,
   "id": "256765ea",
   "metadata": {},
   "outputs": [
    {
     "data": {
      "text/plain": [
       "0.6"
      ]
     },
     "execution_count": 2,
     "metadata": {},
     "output_type": "execute_result"
    }
   ],
   "source": [
    "# To calculate accuracy of model about dataset that predict it.\n",
    "from sklearn.metrics import accuracy_score\n",
    "\n",
    "accuracy_score(y,y_pred)"
   ]
  },
  {
   "cell_type": "code",
   "execution_count": 3,
   "id": "f869146f",
   "metadata": {},
   "outputs": [
    {
     "data": {
      "text/plain": [
       "array([[5, 2],\n",
       "       [2, 1]], dtype=int64)"
      ]
     },
     "execution_count": 3,
     "metadata": {},
     "output_type": "execute_result"
    }
   ],
   "source": [
    "# Using confusion_matrix to know the number of True and False predict.\n",
    "from sklearn.metrics import confusion_matrix\n",
    "\n",
    "confusion_matrix(y,y_pred)"
   ]
  },
  {
   "cell_type": "code",
   "execution_count": 4,
   "id": "c753ff52",
   "metadata": {},
   "outputs": [
    {
     "data": {
      "text/plain": [
       "0.3333333333333333"
      ]
     },
     "execution_count": 4,
     "metadata": {},
     "output_type": "execute_result"
    }
   ],
   "source": [
    "# To know that predict is good or bad using (Precision_score)\n",
    "from sklearn.metrics import precision_score  # Work Vector Using ==> (TP/(TP+FP))\n",
    "\n",
    "precision_score(y,y_pred)"
   ]
  },
  {
   "cell_type": "code",
   "execution_count": 5,
   "id": "aaf2b564",
   "metadata": {},
   "outputs": [
    {
     "data": {
      "text/plain": [
       "0.3333333333333333"
      ]
     },
     "execution_count": 5,
     "metadata": {},
     "output_type": "execute_result"
    }
   ],
   "source": [
    "# To know that predict is good or bad using (Recall_score)\n",
    "from sklearn.metrics import recall_score  # Work Horiziontal Using ==> (TP/(TP+FN))\n",
    "\n",
    "recall_score(y,y_pred)"
   ]
  },
  {
   "cell_type": "code",
   "execution_count": 6,
   "id": "f41a678e",
   "metadata": {},
   "outputs": [
    {
     "data": {
      "text/plain": [
       "0.3333333333333333"
      ]
     },
     "execution_count": 6,
     "metadata": {},
     "output_type": "execute_result"
    }
   ],
   "source": [
    "# To make sure that accuracy is correct using (f1_score)\n",
    "from sklearn.metrics import f1_score    # Work Using ==> ((2*precision*recall)/(precision+recall))\n",
    "\n",
    "f1_score(y,y_pred)"
   ]
  },
  {
   "cell_type": "code",
   "execution_count": 7,
   "id": "ed26a7fd",
   "metadata": {},
   "outputs": [],
   "source": [
    "# To sample dataset and prediction with (Regression)\n",
    "y_reg = [2,4,1,15,2,7.5,12,1,4,5,3,7,2,3,4]\n",
    "y_pred_reg =[1.5,1,1.5,15.2,1.5,7,11.25,1,4.5,4.5,2,9,3,2.5,3]"
   ]
  },
  {
   "cell_type": "code",
   "execution_count": 8,
   "id": "29b6677c",
   "metadata": {},
   "outputs": [
    {
     "data": {
      "text/plain": [
       "0.83"
      ]
     },
     "execution_count": 8,
     "metadata": {},
     "output_type": "execute_result"
    }
   ],
   "source": [
    "from sklearn.metrics import mean_absolute_error\n",
    "\n",
    "mean_absolute_error(y_reg,y_pred_reg)"
   ]
  },
  {
   "cell_type": "code",
   "execution_count": 9,
   "id": "3a4e719c",
   "metadata": {},
   "outputs": [
    {
     "data": {
      "text/plain": [
       "1.2235"
      ]
     },
     "execution_count": 9,
     "metadata": {},
     "output_type": "execute_result"
    }
   ],
   "source": [
    "from sklearn.metrics import mean_squared_error\n",
    "\n",
    "mean_squared_error(y_reg,y_pred_reg) # By default squared = True"
   ]
  },
  {
   "cell_type": "code",
   "execution_count": 10,
   "id": "9376b07f",
   "metadata": {},
   "outputs": [
    {
     "name": "stdout",
     "output_type": "stream",
     "text": [
      "1.2235\n",
      "1.1061193425666147\n"
     ]
    }
   ],
   "source": [
    "# The different between ( Mean_Square_Error and Root_Mean_Square_Error )\n",
    "mse  = mean_squared_error(y_reg, y_pred_reg , squared = True )    # If squared = True ==> mse\n",
    "rmse = mean_squared_error(y_reg, y_pred_reg , squared = False )   # If squared = False ==> rmse\n",
    "\n",
    "print(mse)\n",
    "print(rmse)"
   ]
  },
  {
   "cell_type": "code",
   "execution_count": 11,
   "id": "37f72aec",
   "metadata": {},
   "outputs": [
    {
     "data": {
      "text/plain": [
       "0.9197997086671522"
      ]
     },
     "execution_count": 11,
     "metadata": {},
     "output_type": "execute_result"
    }
   ],
   "source": [
    "# Using R squared or (Coefficient of Determination)\n",
    "from sklearn.metrics import r2_score\n",
    "\n",
    "r2_score(y_reg,y_pred_reg)"
   ]
  },
  {
   "cell_type": "code",
   "execution_count": null,
   "id": "e8193ec8",
   "metadata": {},
   "outputs": [],
   "source": []
  }
 ],
 "metadata": {
  "kernelspec": {
   "display_name": "Python 3 (ipykernel)",
   "language": "python",
   "name": "python3"
  },
  "language_info": {
   "codemirror_mode": {
    "name": "ipython",
    "version": 3
   },
   "file_extension": ".py",
   "mimetype": "text/x-python",
   "name": "python",
   "nbconvert_exporter": "python",
   "pygments_lexer": "ipython3",
   "version": "3.9.12"
  }
 },
 "nbformat": 4,
 "nbformat_minor": 5
}
